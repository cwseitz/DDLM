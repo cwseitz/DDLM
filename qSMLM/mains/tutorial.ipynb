{
 "cells": [
  {
   "cell_type": "code",
   "execution_count": 1,
   "id": "a6b8a034",
   "metadata": {},
   "outputs": [],
   "source": [
    "import numpy as np\n",
    "import matplotlib.pyplot as plt\n",
    "import itertools\n",
    "from qSMLM.psf.psf2d.psf2d import *\n",
    "from scipy.special import comb"
   ]
  },
  {
   "cell_type": "markdown",
   "id": "192539bb",
   "metadata": {},
   "source": []
  },
  {
   "cell_type": "code",
   "execution_count": 138,
   "id": "ffcd8e92",
   "metadata": {},
   "outputs": [],
   "source": [
    "class Generator:\n",
    "    def __init__(self):\n",
    "        pass\n",
    "\n",
    "class Mix2D_Ring(Generator):\n",
    "    def __init__(self,config):\n",
    "        super().__init__()\n",
    "        self.config = config\n",
    "        \n",
    "    def _mu(self,theta,npixels,patch_hw=5):\n",
    "        x = np.arange(0,2*patch_hw); y = np.arange(0,2*patch_hw)\n",
    "        X,Y = np.meshgrid(x,y)\n",
    "        srate = np.zeros((npixels,npixels),dtype=np.float32)\n",
    "        for n in range(self.config['particles']):\n",
    "            x0,y0,sigma,N0 = theta[:,n]\n",
    "            patchx, patchy = int(round(x0))-patch_hw, int(round(y0))-patch_hw\n",
    "            x0p = x0-patchx; y0p = y0-patchy\n",
    "            lam = lamx(X,x0p,sigma)*lamy(Y,y0p,sigma)\n",
    "            mu = self.config['eta']*N0*lam\n",
    "            srate[patchx:patchx+2*patch_hw,patchy:patchy+2*patch_hw] += mu\n",
    "        return srate\n",
    "        \n",
    "    def ring(self,n,radius=3,phase=0):\n",
    "        thetas = np.arange(0,n,1)*2*np.pi/n\n",
    "        xs = radius*np.cos(thetas+phase)\n",
    "        ys = radius*np.sin(thetas+phase)\n",
    "        return xs,ys\n",
    "    \n",
    "    def pmatrix(self,theta,patch_hw=5):\n",
    "        \n",
    "        x = np.arange(0,2*patch_hw); y = np.arange(0,2*patch_hw)\n",
    "        X,Y = np.meshgrid(x,y)\n",
    "        npixels = self.config['npixels']\n",
    "        nparticles = self.config['particles']\n",
    "        P = np.zeros((nparticles, npixels*npixels))\n",
    "        for n in range(nparticles):\n",
    "            mu = np.zeros((npixels,npixels),dtype=np.float32)\n",
    "            x0,y0,sigma,N0 = theta[:,n]\n",
    "            patchx, patchy = int(round(x0))-patch_hw, int(round(y0))-patch_hw\n",
    "            x0p = x0-patchx; y0p = y0-patchy\n",
    "            lam = lamx(X,x0p,sigma)*lamy(Y,y0p,sigma)\n",
    "            mu[patchx:patchx+2*patch_hw,patchy:patchy+2*patch_hw] += lam\n",
    "            P[n,:] = mu.flatten()\n",
    "        return P\n",
    "    \n",
    "    def computeB(self,nparticles,K):\n",
    "        binary_array = np.array([1] * K + [0] * (nparticles - K), dtype=int)\n",
    "        B = np.array(list(set(itertools.permutations(binary_array, nparticles))))\n",
    "        return B.T\n",
    "\n",
    "    def forward(self,r=4,show=False,patch_hw=5,ring_radius=10):\n",
    "        theta = np.zeros((4,self.config['particles']))\n",
    "        nx,ny = self.config['npixels'],self.config['npixels']\n",
    "        xsamp,ysamp = self.ring(self.config['particles'],radius=ring_radius)\n",
    "        x0 = nx/2; y0 = ny/2\n",
    "        theta[0,:] = xsamp + x0\n",
    "        theta[1,:] = ysamp + y0\n",
    "        theta[2,:] = self.config['sigma']\n",
    "        theta[3,:] = self.config['N0']\n",
    "        mu = self._mu(theta,self.config['npixels'],patch_hw=patch_hw)\n",
    "        \n",
    "        npixels = self.config['npixels']\n",
    "        Kmax = 3; #single photon counts only\n",
    "        Omega = np.zeros((Kmax+1,npixels**2))\n",
    "        for K in range(Kmax+1):\n",
    "            Nck = comb(self.config['particles'],K)\n",
    "            P = self.pmatrix(theta) # nparticles, npixels**2 (columns are probs emitters emit into that pixel)\n",
    "            B = self.computeB(self.config['particles'],K) # nparticles, Nck\n",
    "            P = np.repeat(P[:,:,np.newaxis],Nck,axis=2) #nparticles, npixels**2, Nck\n",
    "            B = np.repeat(B[:,np.newaxis,:],npixels**2,axis=1) #nparticles, npixels**2, Nck\n",
    "            R = np.power(P,B)*np.power(1-P,1-B)\n",
    "            R = np.sum(np.prod(R,axis=0),axis=1)\n",
    "            Omega[K,:] = R\n",
    "       \n",
    "        Chi = np.arange(0,Kmax+1,1)\n",
    "        Chi = np.repeat(Chi[:,np.newaxis],npixels**2,axis=1)\n",
    "        E = np.sum(Chi*Omega,axis=0)  #<XY> = <X><Y>\n",
    "        return mu\n",
    "\n",
    "    def show(self,theta,mu):\n",
    "        fig,ax=plt.subplots(1,2)\n",
    "        ax[0].scatter(theta[1,:],theta[0,:],color='black',s=5)\n",
    "        ax[0].set_aspect(1.0)\n",
    "        ax[1].imshow(mu,cmap=plt.cm.BuGn_r)\n",
    "        ax[0].set_xlim([0,self.config['npixels']])\n",
    "        ax[0].set_ylim([0,self.config['npixels']])\n",
    "        ax[0].invert_yaxis()\n",
    "        plt.show()"
   ]
  },
  {
   "cell_type": "code",
   "execution_count": 139,
   "id": "972e48db",
   "metadata": {},
   "outputs": [],
   "source": [
    "config = {\n",
    "    \"particles\": 7,\n",
    "    \"npixels\": 20,\n",
    "    \"sigma\": 0.92,\n",
    "    \"N0\": 0.5,\n",
    "    \"eta\": 1.0}\n",
    "\n",
    "mix2d = Mix2D_Ring(config)\n",
    "mu = mix2d.forward(show=True,ring_radius=config['npixels']/5)"
   ]
  },
  {
   "cell_type": "code",
   "execution_count": 29,
   "id": "14430b20",
   "metadata": {},
   "outputs": [],
   "source": [
    "npixels = 3\n",
    "x = np.ones((npixels**2,))\n",
    "mask = np.arange(len(x)) % npixels == 0\n",
    "x[mask] = 0; x = np.roll(x,-1)\n",
    "A = np.diag(x,k=1) #horizontally adjacent\n",
    "B = np.diag(x,k=-1) #vertically adjacent\n",
    "\n",
    "x = np.ones((npixels**2-npixels,))\n",
    "mask = np.arange(len(x)) % npixels == 0\n",
    "x[mask] = 0; x = np.roll(x,-1)\n",
    "C = np.diag(x,k=npixels+1) #right diagonal\n",
    "D = np.diag(x,k=-npixels-1) #left diagonal"
   ]
  },
  {
   "cell_type": "code",
   "execution_count": 35,
   "id": "eafbcda0",
   "metadata": {},
   "outputs": [],
   "source": [
    "Aind = np.where(A > 0)\n",
    "Bind = np.where(B > 0)\n",
    "Cind = np.where(C > 0)\n",
    "Dind = np.where(D > 0)"
   ]
  },
  {
   "cell_type": "code",
   "execution_count": 36,
   "id": "0a61fed5",
   "metadata": {},
   "outputs": [
    {
     "data": {
      "image/png": "[encoded data removed]",
      "text/plain": [
       "<Figure size 640x480 with 4 Axes>"
      ]
     },
     "metadata": {},
     "output_type": "display_data"
    }
   ],
   "source": [
    "fig,ax=plt.subplots(1,4)\n",
    "ax[0].imshow(A)\n",
    "ax[1].imshow(B)\n",
    "ax[2].imshow(C)\n",
    "ax[3].imshow(D)\n",
    "plt.show()"
   ]
  },
  {
   "cell_type": "code",
   "execution_count": null,
   "id": "6e81358e",
   "metadata": {},
   "outputs": [],
   "source": []
  }
 ],
 "metadata": {
  "kernelspec": {
   "display_name": "Python 3 (ipykernel)",
   "language": "python",
   "name": "python3"
  },
  "language_info": {
   "codemirror_mode": {
    "name": "ipython",
    "version": 3
   },
   "file_extension": ".py",
   "mimetype": "text/x-python",
   "name": "python",
   "nbconvert_exporter": "python",
   "pygments_lexer": "ipython3",
   "version": "3.11.5"
  }
 },
 "nbformat": 4,
 "nbformat_minor": 5
}
