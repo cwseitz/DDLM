{
 "cells": [
  {
   "cell_type": "code",
   "execution_count": null,
   "id": "6c53ad17",
   "metadata": {},
   "outputs": [],
   "source": [
    "import numpy as np"
   ]
  },
  {
   "cell_type": "code",
   "execution_count": null,
   "id": "c460f842",
   "metadata": {},
   "outputs": [],
   "source": [
    "import numpy as np\n",
    "import itertools\n",
    "\n",
    "def generate_binary_strings(length, num_ones):\n",
    "    binary_strings = set()\n",
    "    binary_array = np.array([1] * num_ones + [0] * (length - num_ones), dtype=int)\n",
    "    for perm in set(itertools.permutations(binary_array)):\n",
    "        binary_strings.add(tuple(perm))\n",
    "    return binary_strings\n",
    "\n",
    "def non_overlapping_combinations_(M,N1,N2):\n",
    "\n",
    "    # Generate all possible binary strings with N1 1's and N2 1's\n",
    "    binary_strings_N1 = generate_binary_strings(M, N1)\n",
    "    binary_strings_N2 = generate_binary_strings(M, N2)\n",
    "\n",
    "    # Find non-overlapping combinations of the two binary strings\n",
    "    non_overlapping_combinations = []\n",
    "    for string1 in binary_strings_N1:\n",
    "        for string2 in binary_strings_N2:\n",
    "            if not any(a and b for a, b in zip(string1, string2)):\n",
    "                string1 = list(string1); string2 = list(string2)\n",
    "                non_overlapping_combinations.append([string1, string2])\n",
    "\n",
    "    non_overlapping_combinations = np.array(non_overlapping_combinations)\n",
    "    return non_overlapping_combinations\n",
    "\n",
    "maxM = 10\n",
    "maxN1 = 3\n",
    "maxN2 = 3\n",
    "\n",
    "path = '/Users/cwseitz/Desktop/States/'\n",
    "\n",
    "for m in range(1,maxM):\n",
    "    for n1 in range(maxN1):\n",
    "        for n2 in range(maxN2):\n",
    "            if n1+n2 <= m:\n",
    "                print(f'Generating M={m},N1={n1},N2={n2}')\n",
    "                non_overlapping_combinations = non_overlapping_combinations_(m,n1,n2)\n",
    "                np.savez(path+f'bin_{m}{n1}{n2}.npz',B=non_overlapping_combinations)\n",
    "\n"
   ]
  }
 ],
 "metadata": {
  "kernelspec": {
   "display_name": "Python 3 (ipykernel)",
   "language": "python",
   "name": "python3"
  },
  "language_info": {
   "codemirror_mode": {
    "name": "ipython",
    "version": 3
   },
   "file_extension": ".py",
   "mimetype": "text/x-python",
   "name": "python",
   "nbconvert_exporter": "python",
   "pygments_lexer": "ipython3",
   "version": "3.11.5"
  }
 },
 "nbformat": 4,
 "nbformat_minor": 5
}
