{
 "cells": [
  {
   "cell_type": "code",
   "execution_count": 4,
   "id": "a6b8a034",
   "metadata": {},
   "outputs": [],
   "source": [
    "import numpy as np\n",
    "import matplotlib.pyplot as plt\n",
    "from qSMLM.psf.psf2d.psf2d import *"
   ]
  },
  {
   "cell_type": "markdown",
   "id": "192539bb",
   "metadata": {},
   "source": []
  },
  {
   "cell_type": "code",
   "execution_count": 62,
   "id": "ffcd8e92",
   "metadata": {},
   "outputs": [],
   "source": [
    "class Generator:\n",
    "    def __init__(self):\n",
    "        pass\n",
    "\n",
    "class Mix2D_Ring(Generator):\n",
    "    def __init__(self,config):\n",
    "        super().__init__()\n",
    "        self.config = config\n",
    "        \n",
    "    def _mu(self,theta,npixels,patch_hw=5):\n",
    "        x = np.arange(0,2*patch_hw); y = np.arange(0,2*patch_hw)\n",
    "        X,Y = np.meshgrid(x,y)\n",
    "        srate = np.zeros((npixels,npixels),dtype=np.float32)\n",
    "        for n in range(self.config['particles']):\n",
    "            x0,y0,sigma,N0 = theta[:,n]\n",
    "            patchx, patchy = int(round(x0))-patch_hw, int(round(y0))-patch_hw\n",
    "            x0p = x0-patchx; y0p = y0-patchy\n",
    "            lam = lamx(X,x0p,sigma)*lamy(Y,y0p,sigma)\n",
    "            mu = self.config['eta']*N0*lam\n",
    "            srate[patchx:patchx+2*patch_hw,patchy:patchy+2*patch_hw] += mu\n",
    "        return srate\n",
    "        \n",
    "    def ring(self,n,radius=3,phase=0):\n",
    "        thetas = np.arange(0,n,1)*2*np.pi/n\n",
    "        xs = radius*np.cos(thetas+phase)\n",
    "        ys = radius*np.sin(thetas+phase)\n",
    "        return xs,ys\n",
    "\n",
    "    def forward(self,r=4,show=False,patch_hw=5,ring_radius=10):\n",
    "        theta = np.zeros((4,self.config['particles']))\n",
    "        nx,ny = self.config['npixels'],self.config['npixels']\n",
    "        xsamp,ysamp = self.ring(self.config['particles'],radius=ring_radius)\n",
    "        x0 = nx/2; y0 = ny/2\n",
    "        theta[0,:] = xsamp + x0\n",
    "        theta[1,:] = ysamp + y0\n",
    "        theta[2,:] = self.config['sigma']\n",
    "        theta[3,:] = self.config['N0']\n",
    "        mu = self._mu(theta,self.config['npixels'],patch_hw=patch_hw)\n",
    "        V = self.virtual(mu)\n",
    "        if show: self.show(theta,mu,V)\n",
    "        return mu\n",
    "\n",
    "    def show(self,theta,mu,virtual):\n",
    "        fig,ax=plt.subplots(1,3)\n",
    "        ax[0].scatter(theta[1,:],theta[0,:],color='black',s=5)\n",
    "        ax[0].set_aspect(1.0)\n",
    "        ax[1].imshow(mu,cmap=plt.cm.BuGn_r)\n",
    "        ax[2].imshow(virtual,cmap=plt.cm.BuGn_r)\n",
    "        ax[0].set_xlim([0,self.config['npixels']])\n",
    "        ax[0].set_ylim([0,self.config['npixels']])\n",
    "        ax[0].invert_yaxis()\n",
    "        plt.show()"
   ]
  },
  {
   "cell_type": "code",
   "execution_count": 70,
   "id": "972e48db",
   "metadata": {},
   "outputs": [
    {
     "data": {
      "image/png": "[encoded data removed]",
      "text/plain": [
       "<Figure size 640x480 with 3 Axes>"
      ]
     },
     "metadata": {},
     "output_type": "display_data"
    }
   ],
   "source": [
    "config = {\n",
    "    \"particles\": 7,\n",
    "    \"npixels\": 20,\n",
    "    \"sigma\": 0.92,\n",
    "    \"N0\": 0.5,\n",
    "    \"eta\": 1.0}\n",
    "\n",
    "mix2d = Mix2D_Ring(config)\n",
    "mu = mix2d.forward(show=True,ring_radius=config['npixels']/5)"
   ]
  },
  {
   "cell_type": "markdown",
   "id": "6d407899",
   "metadata": {},
   "source": [
    "For a particular pair of pixels $i$ and $j$, we compute the virtual pixel\n",
    "$$ v_{ij} =\\langle X_{i}X_{j}\\rangle= \\sum_{\\alpha,\\beta} (1-\\delta_{\\alpha\\beta})(p_{i}^{\\alpha}p_{j}^{\\beta}+p_{i}^{\\beta}p_{j}^{\\alpha})$$\n",
    "Here $p_{i}^{\\alpha}$ is the probability that emitter $\\alpha$ emits a photon that is detected at pixel $i$, which is computed from the integrated PSF. This gives a very general way of getting the antibunching signal, but it needs to be vectorized, which is not trivial.\n",
    "Ultimately, we would want to write down a likelihood on the pixel-wise average signal $p_{i}=\\langle X_{i}\\rangle$ as well as these cross-correlations $v_{ij}=\\langle X_{i}X_{j}\\rangle$ under parameterization $\\theta$"
   ]
  },
  {
   "cell_type": "code",
   "execution_count": null,
   "id": "426788bf",
   "metadata": {},
   "outputs": [],
   "source": []
  }
 ],
 "metadata": {
  "kernelspec": {
   "display_name": "Python 3 (ipykernel)",
   "language": "python",
   "name": "python3"
  },
  "language_info": {
   "codemirror_mode": {
    "name": "ipython",
    "version": 3
   },
   "file_extension": ".py",
   "mimetype": "text/x-python",
   "name": "python",
   "nbconvert_exporter": "python",
   "pygments_lexer": "ipython3",
   "version": "3.11.5"
  }
 },
 "nbformat": 4,
 "nbformat_minor": 5
}
