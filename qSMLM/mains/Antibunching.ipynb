{
 "cells": [
  {
   "cell_type": "code",
   "execution_count": 217,
   "id": "645d2c26",
   "metadata": {},
   "outputs": [],
   "source": [
    "import numpy as np\n",
    "import matplotlib.pyplot as plt\n",
    "import itertools\n",
    "from qSMLM.psf.psf2d.psf2d import *\n",
    "from scipy.special import comb"
   ]
  },
  {
   "cell_type": "code",
   "execution_count": 276,
   "id": "b5fa42e3",
   "metadata": {},
   "outputs": [],
   "source": [
    "def _mu(theta,npixels,nparticles,patch_hw=5):\n",
    "    x = np.arange(0,2*patch_hw); y = np.arange(0,2*patch_hw)\n",
    "    X,Y = np.meshgrid(x,y)\n",
    "    mu = np.zeros((npixels,npixels),dtype=np.float32)\n",
    "    for n in range(nparticles):\n",
    "        x0,y0,sigma,N0 = theta[:,n]\n",
    "        patchx, patchy = int(round(x0))-patch_hw, int(round(y0))-patch_hw\n",
    "        x0p = x0-patchx; y0p = y0-patchy\n",
    "        lam = lamx(X,x0p,sigma)*lamy(Y,y0p,sigma)\n",
    "        mu[patchx:patchx+2*patch_hw,patchy:patchy+2*patch_hw] += lam\n",
    "    return mu\n",
    "\n",
    "def ring(n,radius=3,phase=np.pi):\n",
    "    thetas = np.arange(0,n,1)*2*np.pi/n\n",
    "    xs = radius*np.cos(thetas+phase)\n",
    "    ys = radius*np.sin(thetas+phase)\n",
    "    return xs,ys\n",
    "\n",
    "def computeP(theta,patch_hw=5):\n",
    "\n",
    "    x = np.arange(0,2*patch_hw); y = np.arange(0,2*patch_hw)\n",
    "    X,Y = np.meshgrid(x,y)\n",
    "    npixels = config['npixels']\n",
    "    nparticles = config['particles']\n",
    "    P = np.zeros((nparticles, npixels*npixels))\n",
    "    for n in range(nparticles):\n",
    "        mu = np.zeros((npixels,npixels),dtype=np.float32)\n",
    "        x0,y0,sigma,N0 = theta[:,n]\n",
    "        patchx, patchy = int(round(x0))-patch_hw, int(round(y0))-patch_hw\n",
    "        x0p = x0-patchx; y0p = y0-patchy\n",
    "        lam = lamx(X,x0p,sigma)*lamy(Y,y0p,sigma)\n",
    "        mu[patchx:patchx+2*patch_hw,patchy:patchy+2*patch_hw] += lam\n",
    "        P[n,:] = mu.flatten()\n",
    "    return P\n",
    "\n",
    "\n",
    "def computeEind(npixels):\n",
    "    \"\"\"Get indexers for the E matrix\"\"\"\n",
    "    x = np.ones((npixels**2,))\n",
    "    mask = np.arange(len(x)) % npixels == 0\n",
    "    x[mask] = 0; x = np.roll(x,-1)\n",
    "    A = np.diag(x,k=1) #horizontally adjacent\n",
    "\n",
    "    x = np.ones((npixels**2-npixels,))\n",
    "    B = np.diag(x,k=npixels) #vertically adjacent\n",
    "    \n",
    "    x = np.ones((npixels**2-npixels,))\n",
    "    mask = np.arange(len(x)) % npixels == 0\n",
    "    x[mask] = 0; x = np.roll(x,-1)\n",
    "    C = np.diag(x,k=npixels+1) #right diagonal\n",
    "    \n",
    "    x = np.ones((npixels**2-npixels,))\n",
    "    mask = np.arange(len(x)) % npixels == 0\n",
    "    x[mask] = 0\n",
    "    D = np.diag(x,k=npixels-1) #left diagonal\n",
    "    \n",
    "    F = np.eye(npixels**2)\n",
    "    Aind = np.where(A > 0); Bind = np.where(B > 0)\n",
    "    Cind = np.where(C > 0); Dind = np.where(D > 0)\n",
    "    Find = np.where(F > 0)\n",
    "    return Aind,Bind,Cind,Dind,Find\n",
    "\n",
    "def computeSind(npixels):\n",
    "    \"\"\"Get indexers for the covariance map\"\"\"\n",
    "    checker = np.indices((2*npixels-1,2*npixels-1)).sum(axis=0) % 2\n",
    "    checker = 1-checker\n",
    "    checker[::2,:] *= 2\n",
    "    checker[::2,:] += 2\n",
    "    Vind = np.where(checker == 0); RLind = np.where(checker == 1)\n",
    "    Hind = np.where(checker == 2); Dind = np.where(checker == 4)\n",
    "    return Vind, RLind, Hind, Dind\n",
    "\n",
    "def computeE(config,r=4,patch_hw=5,ring_radius=10):\n",
    "    theta = np.zeros((4,config['particles']))\n",
    "    nx,ny = config['npixels'],config['npixels']\n",
    "    xsamp,ysamp = ring(config['particles'],radius=ring_radius)\n",
    "    x0 = nx/2; y0 = ny/2\n",
    "    theta[0,:] = xsamp + x0\n",
    "    theta[1,:] = ysamp + y0\n",
    "    theta[2,:] = config['sigma']\n",
    "    theta[3,:] = config['N0']\n",
    "    mu = _mu(theta,config['npixels'],config['particles'])\n",
    "    \n",
    "    npixels = config['npixels']\n",
    "    Kmax = 2; #single photon counts only\n",
    "    M = config['particles']\n",
    "    Omega = np.zeros((Kmax+1,Kmax+1,npixels**2,npixels**2)) #need object of shape (K,K,npixels**2,npixels**2)\n",
    "    P = computeP(theta) # nparticles, npixels**2 (columns are probs emitters emit into that pixel)\n",
    "    for i in range(Kmax+1):\n",
    "        for j in range(Kmax+1):\n",
    "            B = np.load(config['bpath']+f'bin_{M}{i}{j}.npz')['B']\n",
    "            Nc,_,_ = B.shape\n",
    "            alpha = B[:,0,:]; beta = B[:,1,:]\n",
    "            thisP = np.repeat(P[:,:,np.newaxis],Nc,axis=2) #nparticles, npixels**2, Nc\n",
    "            alpha = np.repeat(alpha[:,np.newaxis,:],npixels**2,axis=1) #nparticles, npixels**2, Nc\n",
    "            beta = np.repeat(beta[:,np.newaxis,:],npixels**2,axis=1) #nparticles, npixels**2, Nc\n",
    "            alpha = np.swapaxes(alpha,0,2); beta = np.swapaxes(beta,0,2)\n",
    "            P2alpha = np.power(thisP,alpha); P2beta = np.power(thisP,beta)\n",
    "            R = np.sum(np.prod(P2alpha*P2beta,axis=0),axis=1)\n",
    "            Omega[i,j,:,:] = R\n",
    "\n",
    "    Chi = np.arange(0,Kmax+1,1)\n",
    "    Chi = np.outer(Chi,Chi)\n",
    "    Chi = Chi[:,:,np.newaxis,np.newaxis]\n",
    "    E = np.sum(Chi*Omega,axis=(0,1))\n",
    "    return E, mu\n"
   ]
  },
  {
   "cell_type": "code",
   "execution_count": 277,
   "id": "e56c99a9",
   "metadata": {},
   "outputs": [
    {
     "name": "stdout",
     "output_type": "stream",
     "text": [
      "[1. 1. 1. 1. 1. 1. 1. 1. 1. 1. 1. 1. 1. 1. 1. 1. 1. 1. 1. 0. 1. 1. 1. 1.\n",
      " 1. 1. 1. 1. 1. 1. 1. 1. 1. 1. 1. 1. 1. 1. 1. 0. 1. 1. 1. 1. 1. 1. 1. 1.\n",
      " 1. 1. 1. 1. 1. 1. 1. 1. 1. 1. 1. 0. 1. 1. 1. 1. 1. 1. 1. 1. 1. 1. 1. 1.\n",
      " 1. 1. 1. 1. 1. 1. 1. 0. 1. 1. 1. 1. 1. 1. 1. 1. 1. 1. 1. 1. 1. 1. 1. 1.\n",
      " 1. 1. 1. 0. 1. 1. 1. 1. 1. 1. 1. 1. 1. 1. 1. 1. 1. 1. 1. 1. 1. 1. 1. 0.\n",
      " 1. 1. 1. 1. 1. 1. 1. 1. 1. 1. 1. 1. 1. 1. 1. 1. 1. 1. 1. 0. 1. 1. 1. 1.\n",
      " 1. 1. 1. 1. 1. 1. 1. 1. 1. 1. 1. 1. 1. 1. 1. 0. 1. 1. 1. 1. 1. 1. 1. 1.\n",
      " 1. 1. 1. 1. 1. 1. 1. 1. 1. 1. 1. 0. 1. 1. 1. 1. 1. 1. 1. 1. 1. 1. 1. 1.\n",
      " 1. 1. 1. 1. 1. 1. 1. 0. 1. 1. 1. 1. 1. 1. 1. 1. 1. 1. 1. 1. 1. 1. 1. 1.\n",
      " 1. 1. 1. 0. 1. 1. 1. 1. 1. 1. 1. 1. 1. 1. 1. 1. 1. 1. 1. 1. 1. 1. 1. 0.\n",
      " 1. 1. 1. 1. 1. 1. 1. 1. 1. 1. 1. 1. 1. 1. 1. 1. 1. 1. 1. 0. 1. 1. 1. 1.\n",
      " 1. 1. 1. 1. 1. 1. 1. 1. 1. 1. 1. 1. 1. 1. 1. 0. 1. 1. 1. 1. 1. 1. 1. 1.\n",
      " 1. 1. 1. 1. 1. 1. 1. 1. 1. 1. 1. 0. 1. 1. 1. 1. 1. 1. 1. 1. 1. 1. 1. 1.\n",
      " 1. 1. 1. 1. 1. 1. 1. 0. 1. 1. 1. 1. 1. 1. 1. 1. 1. 1. 1. 1. 1. 1. 1. 1.\n",
      " 1. 1. 1. 0. 1. 1. 1. 1. 1. 1. 1. 1. 1. 1. 1. 1. 1. 1. 1. 1. 1. 1. 1. 0.\n",
      " 1. 1. 1. 1. 1. 1. 1. 1. 1. 1. 1. 1. 1. 1. 1. 1. 1. 1. 1. 0.]\n"
     ]
    }
   ],
   "source": [
    "bpath = '/Users/cwseitz/Desktop/States/'\n",
    "config = {\"particles\": 5,\"npixels\": 20,\"sigma\": 0.92,\"N0\": 0.5,\"eta\": 1.0,\"bpath\":bpath}\n",
    "E,mu = computeE(config,ring_radius=3)\n",
    "Eh,Ev,Er,El,Ed = computeEind(config['npixels'])\n",
    "Vind, RLind, Hind, Dind = computeSind(config['npixels'])"
   ]
  },
  {
   "cell_type": "code",
   "execution_count": 278,
   "id": "f4345ba9",
   "metadata": {},
   "outputs": [],
   "source": [
    "Ehvals = E[Eh]\n",
    "Evvals = E[Ev]\n",
    "Ervals = E[Er]\n",
    "Elvals = E[El]\n",
    "Edvals = E[Ed]"
   ]
  },
  {
   "cell_type": "code",
   "execution_count": 279,
   "id": "1cc489ca",
   "metadata": {},
   "outputs": [],
   "source": [
    "npixels = config['npixels']\n",
    "CovR = np.zeros((2*npixels-1,2*npixels-1))\n",
    "CovR[Vind] = Evvals #looks weird, probably indexing issue\n",
    "CovR[RLind] = Ervals\n",
    "CovR[Hind] = Ehvals\n",
    "CovR[Dind] = Edvals\n",
    "\n",
    "CovL = np.zeros((2*npixels-1,2*npixels-1))\n",
    "CovL[Vind] = Evvals\n",
    "CovL[RLind] = Elvals\n",
    "CovL[Hind] = Ehvals\n",
    "CovL[Dind] = Edvals"
   ]
  },
  {
   "cell_type": "code",
   "execution_count": 280,
   "id": "6381daa9",
   "metadata": {},
   "outputs": [
    {
     "data": {
      "text/plain": [
       "<matplotlib.image.AxesImage at 0x285902f90>"
      ]
     },
     "execution_count": 280,
     "metadata": {},
     "output_type": "execute_result"
    },
    {
     "data": {
      "image/png": "[encoded data removed]",
      "text/plain": [
       "<Figure size 640x480 with 4 Axes>"
      ]
     },
     "metadata": {},
     "output_type": "display_data"
    }
   ],
   "source": [
    "fig,ax=plt.subplots(1,4)\n",
    "ax[0].imshow(CovL); ax[1].imshow(CovR); ax[2].imshow((CovL+CovR)/2); ax[3].imshow(mu)"
   ]
  },
  {
   "cell_type": "code",
   "execution_count": null,
   "id": "2ec06bad",
   "metadata": {},
   "outputs": [],
   "source": []
  },
  {
   "cell_type": "code",
   "execution_count": null,
   "id": "cdbdebdf",
   "metadata": {},
   "outputs": [],
   "source": []
  }
 ],
 "metadata": {
  "kernelspec": {
   "display_name": "Python 3 (ipykernel)",
   "language": "python",
   "name": "python3"
  },
  "language_info": {
   "codemirror_mode": {
    "name": "ipython",
    "version": 3
   },
   "file_extension": ".py",
   "mimetype": "text/x-python",
   "name": "python",
   "nbconvert_exporter": "python",
   "pygments_lexer": "ipython3",
   "version": "3.11.5"
  }
 },
 "nbformat": 4,
 "nbformat_minor": 5
}
