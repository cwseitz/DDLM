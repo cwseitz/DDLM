{
 "cells": [
  {
   "cell_type": "code",
   "execution_count": 1,
   "id": "645d2c26",
   "metadata": {},
   "outputs": [],
   "source": [
    "import numpy as np\n",
    "import matplotlib.pyplot as plt\n",
    "import itertools\n",
    "from qSMLM.psf.psf2d.psf2d import *\n",
    "from scipy.special import comb"
   ]
  },
  {
   "cell_type": "code",
   "execution_count": 118,
   "id": "b5fa42e3",
   "metadata": {},
   "outputs": [],
   "source": [
    "def ring(n,radius=3,phase=0):\n",
    "    thetas = np.arange(0,n,1)*2*np.pi/n\n",
    "    xs = radius*np.cos(thetas+phase)\n",
    "    ys = radius*np.sin(thetas+phase)\n",
    "    return xs,ys\n",
    "\n",
    "def computeP(theta,patch_hw=5):\n",
    "\n",
    "    x = np.arange(0,2*patch_hw); y = np.arange(0,2*patch_hw)\n",
    "    X,Y = np.meshgrid(x,y)\n",
    "    npixels = config['npixels']\n",
    "    nparticles = config['particles']\n",
    "    P = np.zeros((nparticles, npixels*npixels))\n",
    "    for n in range(nparticles):\n",
    "        mu = np.zeros((npixels,npixels),dtype=np.float32)\n",
    "        x0,y0,sigma,N0 = theta[:,n]\n",
    "        patchx, patchy = int(round(x0))-patch_hw, int(round(y0))-patch_hw\n",
    "        x0p = x0-patchx; y0p = y0-patchy\n",
    "        lam = lamx(X,x0p,sigma)*lamy(Y,y0p,sigma)\n",
    "        mu[patchx:patchx+2*patch_hw,patchy:patchy+2*patch_hw] += lam\n",
    "        P[n,:] = mu.flatten()\n",
    "    return P\n",
    "\n",
    "def computeB(nparticles,K):\n",
    "    binary_array = np.array([1] * K + [0] * (nparticles - K), dtype=int)\n",
    "    B = np.array(list(set(itertools.permutations(binary_array, nparticles))))\n",
    "    return B.T\n",
    "\n",
    "def computeEind(npixels):\n",
    "    \"\"\"Get indexers for the E matrix\"\"\"\n",
    "    x = np.ones((npixels**2,))\n",
    "    mask = np.arange(len(x)) % npixels == 0\n",
    "    x[mask] = 0; x = np.roll(x,-1)\n",
    "    A = np.diag(x,k=1) #horizontally adjacent\n",
    "    B = np.diag(x,k=-1) #vertically adjacent\n",
    "\n",
    "    x = np.ones((npixels**2-npixels,))\n",
    "    mask = np.arange(len(x)) % npixels == 0\n",
    "    x[mask] = 0; x = np.roll(x,-1)\n",
    "    C = np.diag(x,k=npixels+1) #right diagonal\n",
    "    D = np.diag(x,k=-npixels-1) #left diagonal\n",
    "    F = np.eye(npixels**2)\n",
    "    Aind = np.where(A > 0); Bind = np.where(B > 0)\n",
    "    Cind = np.where(C > 0); Dind = np.where(D > 0)\n",
    "    Find = np.where(F > 0)\n",
    "    return Aind,Bind,Cind,Dind,Find\n",
    "\n",
    "def computeSind(npixels):\n",
    "    \"\"\"Get indexers for the covariance map\"\"\"\n",
    "    checker = np.indices((2*npixels-1,2*npixels-1)).sum(axis=0) % 2\n",
    "    checker = 1-checker\n",
    "    checker[::2,:] *= 2\n",
    "    checker[::2,:] += 2\n",
    "    V = (checker == 0).astype(np.uint8)\n",
    "    RL = (checker == 1).astype(np.uint8)\n",
    "    H = (checker == 2).astype(np.uint8)\n",
    "    D = (checker == 4).astype(np.uint8)\n",
    "    Vind = np.where(V > 0); RLind = np.where(RL > 0)\n",
    "    Hind = np.where(H > 0); Dind = np.where(D > 0)\n",
    "    return Vind, RLind, Hind, Dind\n",
    "\n",
    "def computeE(config,r=4,patch_hw=5,ring_radius=10):\n",
    "    theta = np.zeros((4,config['particles']))\n",
    "    nx,ny = config['npixels'],config['npixels']\n",
    "    xsamp,ysamp = ring(config['particles'],radius=ring_radius)\n",
    "    x0 = nx/2; y0 = ny/2\n",
    "    theta[0,:] = xsamp + x0\n",
    "    theta[1,:] = ysamp + y0\n",
    "    theta[2,:] = config['sigma']\n",
    "    theta[3,:] = config['N0']\n",
    "\n",
    "    npixels = config['npixels']\n",
    "    Kmax = 3; #single photon counts only\n",
    "    Omega = np.zeros((Kmax+1,npixels**2))\n",
    "    for K in range(Kmax+1):\n",
    "        Nck = comb(config['particles'],K)\n",
    "        P = computeP(theta) # nparticles, npixels**2 (columns are probs emitters emit into that pixel)\n",
    "        B = computeB(config['particles'],K) # nparticles, Nck\n",
    "        P = np.repeat(P[:,:,np.newaxis],Nck,axis=2) #nparticles, npixels**2, Nck\n",
    "        B = np.repeat(B[:,np.newaxis,:],npixels**2,axis=1) #nparticles, npixels**2, Nck\n",
    "        R = np.power(P,B)*np.power(1-P,1-B)\n",
    "        R = np.sum(np.prod(R,axis=0),axis=1)\n",
    "        Omega[K,:] = R\n",
    "\n",
    "    Chi = np.arange(0,Kmax+1,1)\n",
    "    Chi = np.repeat(Chi[:,np.newaxis],npixels**2,axis=1)\n",
    "    E = np.sum(Chi*Omega,axis=0)  #<XY> = <X><Y>\n",
    "    return np.outer(E,E)\n"
   ]
  },
  {
   "cell_type": "code",
   "execution_count": 134,
   "id": "e56c99a9",
   "metadata": {},
   "outputs": [],
   "source": [
    "config = {\"particles\": 7,\"npixels\": 19,\"sigma\": 0.92,\"N0\": 0.5,\"eta\": 1.0}\n",
    "E = computeE(config,ring_radius=5)\n",
    "Eh,Ev,Er,El,Ed = computeEind(config['npixels'])\n",
    "Vind, RLind, Hind, Dind = computeSind(config['npixels'])"
   ]
  },
  {
   "cell_type": "code",
   "execution_count": 135,
   "id": "f4345ba9",
   "metadata": {},
   "outputs": [],
   "source": [
    "Ehvals = E[Eh]\n",
    "Evvals = E[Ev]\n",
    "Ervals = E[Er]\n",
    "Elvals = E[El]\n",
    "Edvals = E[Ed]"
   ]
  },
  {
   "cell_type": "code",
   "execution_count": 136,
   "id": "1bbe56b3",
   "metadata": {},
   "outputs": [
    {
     "name": "stdout",
     "output_type": "stream",
     "text": [
      "(361,) (361,)\n"
     ]
    }
   ],
   "source": [
    "print(Edvals.shape,Dind[0].shape)"
   ]
  },
  {
   "cell_type": "code",
   "execution_count": 137,
   "id": "1cc489ca",
   "metadata": {},
   "outputs": [
    {
     "ename": "IndexError",
     "evalue": "index 19 is out of bounds for axis 0 with size 19",
     "output_type": "error",
     "traceback": [
      "\u001b[0;31m---------------------------------------------------------------------------\u001b[0m",
      "\u001b[0;31mIndexError\u001b[0m                                Traceback (most recent call last)",
      "Cell \u001b[0;32mIn[137], line 2\u001b[0m\n\u001b[1;32m      1\u001b[0m CovR \u001b[38;5;241m=\u001b[39m np\u001b[38;5;241m.\u001b[39mzeros((\u001b[38;5;241m2\u001b[39m\u001b[38;5;241m*\u001b[39mnpixels\u001b[38;5;241m-\u001b[39m\u001b[38;5;241m1\u001b[39m,\u001b[38;5;241m2\u001b[39m\u001b[38;5;241m*\u001b[39mnpixels\u001b[38;5;241m-\u001b[39m\u001b[38;5;241m1\u001b[39m))\n\u001b[0;32m----> 2\u001b[0m CovR[Vind] \u001b[38;5;241m=\u001b[39m Evvals\n\u001b[1;32m      3\u001b[0m CovR[RLind] \u001b[38;5;241m=\u001b[39m Ervals\n\u001b[1;32m      4\u001b[0m CovR[Hind] \u001b[38;5;241m=\u001b[39m Ehvals\n",
      "\u001b[0;31mIndexError\u001b[0m: index 19 is out of bounds for axis 0 with size 19"
     ]
    }
   ],
   "source": [
    "CovR = np.zeros((2*npixels-1,2*npixels-1))\n",
    "CovR[Vind] = Evvals\n",
    "CovR[RLind] = Ervals\n",
    "CovR[Hind] = Ehvals\n",
    "CovR[Dind] = Edvals\n",
    "\n",
    "CovL = np.zeros((2*npixels-1,2*npixels-1))\n",
    "CovR[Vind] = Evvals\n",
    "CovR[RLind] = Elvals\n",
    "CovR[Hind] = Ehvals\n",
    "CovR[Dind] = Edvals"
   ]
  },
  {
   "cell_type": "code",
   "execution_count": 138,
   "id": "6381daa9",
   "metadata": {},
   "outputs": [
    {
     "data": {
      "image/png": "[encoded data removed]",
      "text/plain": [
       "<Figure size 640x480 with 1 Axes>"
      ]
     },
     "metadata": {},
     "output_type": "display_data"
    }
   ],
   "source": [
    "plt.imshow(CovR)\n",
    "plt.show()"
   ]
  },
  {
   "cell_type": "code",
   "execution_count": null,
   "id": "64c8141b",
   "metadata": {},
   "outputs": [],
   "source": []
  }
 ],
 "metadata": {
  "kernelspec": {
   "display_name": "Python 3 (ipykernel)",
   "language": "python",
   "name": "python3"
  },
  "language_info": {
   "codemirror_mode": {
    "name": "ipython",
    "version": 3
   },
   "file_extension": ".py",
   "mimetype": "text/x-python",
   "name": "python",
   "nbconvert_exporter": "python",
   "pygments_lexer": "ipython3",
   "version": "3.11.5"
  }
 },
 "nbformat": 4,
 "nbformat_minor": 5
}
